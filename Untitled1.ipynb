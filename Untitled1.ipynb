{
 "cells": [
  {
   "cell_type": "code",
   "execution_count": 15,
   "metadata": {},
   "outputs": [
    {
     "name": "stdout",
     "output_type": "stream",
     "text": [
      "147\n",
      "7\n",
      "74\n",
      "741\n",
      "n= 741\n",
      "c 1\n",
      "n= 74\n",
      "n= 7\n",
      "c 3\n",
      "4  8\n"
     ]
    }
   ],
   "source": [
    "def reverse(n): \n",
    "    rev = 0\n",
    "    while (n != 0): \n",
    "        rev = (rev * 10) + (n % 10) \n",
    "        n = n // 10\n",
    "        print(rev)\n",
    "    return rev\n",
    "\n",
    "\n",
    "def getSum(n):\n",
    "    n = reverse(n)\n",
    "    sumOdd = 0\n",
    "    sumEven = 0\n",
    "    c = 1\n",
    "    \n",
    "    while (n != 0):\n",
    "        print(\"n=\",n)\n",
    "        if ( c% 2 == 0):\n",
    "            sumEven = sumEven + (n % 10)\n",
    "        else:\n",
    "            sumOdd = sumOdd + (n % 10)\n",
    "            print(\"c\",c)\n",
    "        n = n // 10\n",
    "        c = c + 1\n",
    "    print(sumEven,\"\",sumOdd)\n",
    "\n",
    "   \n",
    "n = int(input())\n",
    "getSum(n) "
   ]
  },
  {
   "cell_type": "code",
   "execution_count": 25,
   "metadata": {},
   "outputs": [
    {
     "name": "stdout",
     "output_type": "stream",
     "text": [
      "1\n",
      "1\n"
     ]
    }
   ],
   "source": [
    "def Fibonacci(n):\n",
    "    if n == 0:\n",
    "        return 0\n",
    "    elif n == 1:\n",
    "        return 1\n",
    "    elif n == 2:\n",
    "        return 1\n",
    "    else:\n",
    "        return Fibonacci(n-1) + Fibonacci(n-2)\n",
    "    \n",
    "n = int(input())\n",
    "print(Fibonacci(n))"
   ]
  },
  {
   "cell_type": "code",
   "execution_count": 1,
   "metadata": {},
   "outputs": [
    {
     "name": "stdout",
     "output_type": "stream",
     "text": [
      "0\n",
      "100\n",
      "20\n",
      "0 \t -17\n",
      "20 \t -6\n",
      "40 \t 4\n",
      "60 \t 15\n",
      "80 \t 26\n",
      "100 \t 37\n"
     ]
    }
   ],
   "source": [
    "S = int(input())\n",
    "E = int(input())\n",
    "W = int(input())\n",
    "\n",
    "Current_Temp = S\n",
    "while Current_Temp <= E:\n",
    "    Cel = 5/9 * (Current_Temp - 32)\n",
    "    print(Current_Temp,\"\\t\",int(Cel))\n",
    "    Current_Temp = Current_Temp + W"
   ]
  },
  {
   "cell_type": "code",
   "execution_count": 41,
   "metadata": {},
   "outputs": [
    {
     "name": "stdout",
     "output_type": "stream",
     "text": [
      "6\n"
     ]
    }
   ],
   "source": [
    "ch = int(input())\n",
    "\n",
    "if ch == 1:\n",
    "    a = int(input())\n",
    "    b = int(input())\n",
    "    cal = a + b\n",
    "    print(cal)\n",
    "    \n",
    "    elif ch == 2:\n",
    "        a = int(input())\n",
    "        b = int(input())\n",
    "        cal = a - b\n",
    "        print(cal)\n",
    "    elif ch == 3:\n",
    "        a = int(input())\n",
    "        b = int(input())\n",
    "        cal = a * b\n",
    "        print(cal)\n",
    "    elif ch == 4:\n",
    "        a = int(input())\n",
    "        b = int(input())\n",
    "        cal = a / b\n",
    "        print(cal)\n",
    "    elif ch == 5:\n",
    "        a = int(input())\n",
    "        b = int(input())\n",
    "        cal = a % b\n",
    "        print(cal)\n",
    "    elif ch == 6:\n",
    "        exit()\n",
    "else:\n",
    "    print(\"Invalid Operation\")"
   ]
  },
  {
   "cell_type": "code",
   "execution_count": null,
   "metadata": {},
   "outputs": [
    {
     "name": "stdout",
     "output_type": "stream",
     "text": [
      "10\n",
      "Invalid Operation\n",
      "1\n",
      "1\n",
      "11\n",
      "12\n",
      "1\n",
      "1225\n",
      "231\n",
      "1456\n",
      "1\n",
      "1\n",
      "1\n",
      "2\n",
      "1\n",
      "1\n",
      "1\n",
      "2\n",
      "1\n",
      "1\n",
      "1\n",
      "2\n"
     ]
    }
   ],
   "source": [
    "\n",
    "while True:\n",
    "    choice = int(input())        \n",
    "    if(choice >=1 and choice <=5):\n",
    "        num1 = int(input())\n",
    "        num2 = int(input())\n",
    "        if choice == 1:\n",
    "            res = num1 + num2\n",
    "            print(res)\n",
    "        elif choice == 2:\n",
    "            res = num1 - num2\n",
    "            print(res)\n",
    "        elif choice == 3:\n",
    "            res = num1 * num2\n",
    "            print(res)\n",
    "        elif choice == 4:\n",
    "            res = num1 / num2\n",
    "            print(res)\n",
    "        elif choice == 5:\n",
    "            res = num1 % num2\n",
    "            print(res)\n",
    "    elif choice == 6:\n",
    "        break\n",
    "    else:\n",
    "        print(\"Invalid Operation\")\n",
    "        "
   ]
  },
  {
   "cell_type": "code",
   "execution_count": 8,
   "metadata": {},
   "outputs": [
    {
     "name": "stdout",
     "output_type": "stream",
     "text": [
      "145\n",
      "541\n"
     ]
    }
   ],
   "source": [
    "\n",
    " \n",
    "def reverse(num):\n",
    "    result = 0\n",
    "    while num > 0:\n",
    "        result = (result * 10) + (num % 10)\n",
    "        num = (num // 10)\n",
    "    return result\n",
    "    pass\n",
    "\n",
    "num = int(input())\n",
    "result = reverse(num)\n",
    "print(result)   \n"
   ]
  },
  {
   "cell_type": "code",
   "execution_count": 10,
   "metadata": {},
   "outputs": [
    {
     "name": "stdout",
     "output_type": "stream",
     "text": [
      "875\n",
      "false\n"
     ]
    }
   ],
   "source": [
    "def checkPalindrome(num):\n",
    "    if(num == reverse(num)):\n",
    "        return True\n",
    "    else:\n",
    "        return False\n",
    "\n",
    "def reverse(n):\n",
    "    rev = 0\n",
    "    while(n > 0):\n",
    "        rev = (rev * 10) + (n % 10)\n",
    "        n = n // 10\n",
    "    return rev\n",
    "\n",
    "num = int(input())\n",
    "isPalindrome = checkPalindrome(num)\n",
    "if(isPalindrome):\n",
    "    print('true')\n",
    "else:\n",
    "    print('false')"
   ]
  },
  {
   "cell_type": "code",
   "execution_count": 12,
   "metadata": {},
   "outputs": [
    {
     "name": "stdout",
     "output_type": "stream",
     "text": [
      "458\n",
      "12  5\n"
     ]
    }
   ],
   "source": [
    "def isEven(num):\n",
    "    if (num % 2 == 0):\n",
    "        return True\n",
    "    else:\n",
    "        return False\n",
    "    \n",
    "n = int(input())\n",
    "even_sum = 0\n",
    "odd_sum = 0\n",
    "while(n > 0):\n",
    "    rem = int(n % 10)\n",
    "    if(isEven(rem)):\n",
    "        even_sum = even_sum + int(rem)\n",
    "    else:\n",
    "        odd_sum = odd_sum + int(rem)\n",
    "    n = n // 10\n",
    "print(even_sum,\"\",odd_sum)"
   ]
  },
  {
   "cell_type": "code",
   "execution_count": 13,
   "metadata": {},
   "outputs": [
    {
     "name": "stdout",
     "output_type": "stream",
     "text": [
      "12\n",
      "144\n"
     ]
    }
   ],
   "source": [
    "def Fibonacci(n):\n",
    "    if n < 0:\n",
    "        print(\"Incorrect input\")\n",
    "    elif n == 0:\n",
    "        return 0\n",
    "    elif n == 1:\n",
    "        return 1\n",
    "    else:\n",
    "        return Fibonacci(n-1) + Fibonacci(n-2)\n",
    "   \n",
    "print(Fibonacci(int(input())))"
   ]
  }
 ],
 "metadata": {
  "kernelspec": {
   "display_name": "Python 3",
   "language": "python",
   "name": "python3"
  },
  "language_info": {
   "codemirror_mode": {
    "name": "ipython",
    "version": 3
   },
   "file_extension": ".py",
   "mimetype": "text/x-python",
   "name": "python",
   "nbconvert_exporter": "python",
   "pygments_lexer": "ipython3",
   "version": "3.7.4"
  }
 },
 "nbformat": 4,
 "nbformat_minor": 2
}
