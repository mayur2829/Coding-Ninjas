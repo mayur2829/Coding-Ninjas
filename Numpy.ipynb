{
 "cells": [
  {
   "cell_type": "code",
   "execution_count": 2,
   "metadata": {},
   "outputs": [
    {
     "name": "stdout",
     "output_type": "stream",
     "text": [
      "[1 2 3]\n",
      "<class 'numpy.ndarray'>\n"
     ]
    }
   ],
   "source": [
    "import numpy as np\n",
    "\n",
    "a = [1,2,3]\n",
    "b = np.array(a)\n",
    "print(b)\n",
    "print(type(b))"
   ]
  },
  {
   "cell_type": "code",
   "execution_count": null,
   "metadata": {},
   "outputs": [],
   "source": []
  },
  {
   "cell_type": "code",
   "execution_count": 10,
   "metadata": {},
   "outputs": [
    {
     "name": "stdout",
     "output_type": "stream",
     "text": [
      "[1 2 3 5]\n"
     ]
    }
   ],
   "source": [
    "a = [1,2,3,'5']\n",
    "b = np.array(a , dtype = int)\n",
    "print(b)"
   ]
  },
  {
   "cell_type": "code",
   "execution_count": 11,
   "metadata": {},
   "outputs": [
    {
     "name": "stdout",
     "output_type": "stream",
     "text": [
      "['1' '2' '3' '5' '1' '2' '3' '5' '1' '2' '3' '5']\n"
     ]
    }
   ],
   "source": [
    "a = [1,2,3,'5']\n",
    "b = np.array(a *3)\n",
    "print(b)"
   ]
  },
  {
   "cell_type": "code",
   "execution_count": 14,
   "metadata": {},
   "outputs": [
    {
     "data": {
      "text/plain": [
       "array([1, 1, 1])"
      ]
     },
     "execution_count": 14,
     "metadata": {},
     "output_type": "execute_result"
    }
   ],
   "source": [
    "b = np.ones(3 , dtype =int)\n",
    "b"
   ]
  },
  {
   "cell_type": "code",
   "execution_count": 17,
   "metadata": {},
   "outputs": [
    {
     "data": {
      "text/plain": [
       "array([[1, 1, 1, 1],\n",
       "       [1, 1, 1, 1],\n",
       "       [1, 1, 1, 1]])"
      ]
     },
     "execution_count": 17,
     "metadata": {},
     "output_type": "execute_result"
    }
   ],
   "source": [
    "b = np.ones((3,4) , dtype =int)\n",
    "b"
   ]
  },
  {
   "cell_type": "code",
   "execution_count": 16,
   "metadata": {},
   "outputs": [
    {
     "data": {
      "text/plain": [
       "array([0, 0, 0])"
      ]
     },
     "execution_count": 16,
     "metadata": {},
     "output_type": "execute_result"
    }
   ],
   "source": [
    "b = np.zeros(3 , dtype =int)\n",
    "b"
   ]
  },
  {
   "cell_type": "code",
   "execution_count": 18,
   "metadata": {},
   "outputs": [
    {
     "data": {
      "text/plain": [
       "array([[0, 0, 0],\n",
       "       [0, 0, 0],\n",
       "       [0, 0, 0],\n",
       "       [0, 0, 0]])"
      ]
     },
     "execution_count": 18,
     "metadata": {},
     "output_type": "execute_result"
    }
   ],
   "source": [
    "b = np.zeros((4,3) , dtype =int)\n",
    "b"
   ]
  },
  {
   "cell_type": "code",
   "execution_count": 20,
   "metadata": {},
   "outputs": [
    {
     "data": {
      "text/plain": [
       "array([4, 4, 4])"
      ]
     },
     "execution_count": 20,
     "metadata": {},
     "output_type": "execute_result"
    }
   ],
   "source": [
    "b = np.full(3,4)\n",
    "b"
   ]
  },
  {
   "cell_type": "code",
   "execution_count": 21,
   "metadata": {},
   "outputs": [
    {
     "data": {
      "text/plain": [
       "array([[5, 5, 5, 5],\n",
       "       [5, 5, 5, 5],\n",
       "       [5, 5, 5, 5]])"
      ]
     },
     "execution_count": 21,
     "metadata": {},
     "output_type": "execute_result"
    }
   ],
   "source": [
    "b = np.full((3,4),5)\n",
    "b"
   ]
  },
  {
   "cell_type": "code",
   "execution_count": 34,
   "metadata": {},
   "outputs": [
    {
     "data": {
      "text/plain": [
       "array([0, 0, 0, 0, 0])"
      ]
     },
     "execution_count": 34,
     "metadata": {},
     "output_type": "execute_result"
    }
   ],
   "source": [
    "#numpy.empty(shape, dtype = float, order = ‘C’) : Return a new array of given shape and type, with random values.\n",
    "\n",
    "c = np.empty(5, dtype = int)\n",
    "c"
   ]
  },
  {
   "cell_type": "code",
   "execution_count": 48,
   "metadata": {},
   "outputs": [
    {
     "data": {
      "text/plain": [
       "array([[0, 0, 0],\n",
       "       [0, 0, 0],\n",
       "       [0, 0, 0]])"
      ]
     },
     "execution_count": 48,
     "metadata": {},
     "output_type": "execute_result"
    }
   ],
   "source": [
    "c = np.empty((3,3), dtype = int)\n",
    "c"
   ]
  },
  {
   "cell_type": "code",
   "execution_count": 51,
   "metadata": {},
   "outputs": [
    {
     "name": "stdout",
     "output_type": "stream",
     "text": [
      "[[1 2 3]\n",
      " [4 5 6]\n",
      " [7 8 9]]\n"
     ]
    }
   ],
   "source": [
    "#NumPy 2D array\n",
    "\n",
    "import numpy as np\n",
    "\n",
    "d = [[1, 2, 3], [4, 5, 6], [7, 8, 9]]\n",
    "\n",
    "n = np.array(d)\n",
    "print(n)"
   ]
  },
  {
   "cell_type": "code",
   "execution_count": 7,
   "metadata": {},
   "outputs": [
    {
     "name": "stdout",
     "output_type": "stream",
     "text": [
      "0 0 0 0 0 1 0 0 0 0 "
     ]
    }
   ],
   "source": [
    "import numpy as np\n",
    "\n",
    "b = np.zeros(10,dtype = int)\n",
    "b[5] = 1\n",
    "\n",
    "for x in range(len(b)):\n",
    "    print(b[x],end=\" \")"
   ]
  },
  {
   "cell_type": "code",
   "execution_count": 9,
   "metadata": {},
   "outputs": [
    {
     "data": {
      "text/plain": [
       "array([0, 1, 2, 3, 4, 5, 6, 7, 8, 9])"
      ]
     },
     "execution_count": 9,
     "metadata": {},
     "output_type": "execute_result"
    }
   ],
   "source": [
    "# araneg\n",
    "\n",
    "b = np.arange(10)\n",
    "b"
   ]
  },
  {
   "cell_type": "code",
   "execution_count": 10,
   "metadata": {},
   "outputs": [
    {
     "data": {
      "text/plain": [
       "array([2, 4, 6, 8])"
      ]
     },
     "execution_count": 10,
     "metadata": {},
     "output_type": "execute_result"
    }
   ],
   "source": [
    "b = np.arange(2,10,2)\n",
    "b"
   ]
  },
  {
   "cell_type": "code",
   "execution_count": 13,
   "metadata": {},
   "outputs": [
    {
     "data": {
      "text/plain": [
       "array([ 2,  5,  8, 11, 14, 17])"
      ]
     },
     "execution_count": 13,
     "metadata": {},
     "output_type": "execute_result"
    }
   ],
   "source": [
    "b = np.arange(2,20,3)\n",
    "b"
   ]
  },
  {
   "cell_type": "code",
   "execution_count": 21,
   "metadata": {},
   "outputs": [
    {
     "data": {
      "text/plain": [
       "array([ 2.        ,  2.16326531,  2.32653061,  2.48979592,  2.65306122,\n",
       "        2.81632653,  2.97959184,  3.14285714,  3.30612245,  3.46938776,\n",
       "        3.63265306,  3.79591837,  3.95918367,  4.12244898,  4.28571429,\n",
       "        4.44897959,  4.6122449 ,  4.7755102 ,  4.93877551,  5.10204082,\n",
       "        5.26530612,  5.42857143,  5.59183673,  5.75510204,  5.91836735,\n",
       "        6.08163265,  6.24489796,  6.40816327,  6.57142857,  6.73469388,\n",
       "        6.89795918,  7.06122449,  7.2244898 ,  7.3877551 ,  7.55102041,\n",
       "        7.71428571,  7.87755102,  8.04081633,  8.20408163,  8.36734694,\n",
       "        8.53061224,  8.69387755,  8.85714286,  9.02040816,  9.18367347,\n",
       "        9.34693878,  9.51020408,  9.67346939,  9.83673469, 10.        ])"
      ]
     },
     "execution_count": 21,
     "metadata": {},
     "output_type": "execute_result"
    }
   ],
   "source": [
    "#linspace\n",
    "\n",
    "b = np.linspace(2,10)\n",
    "b"
   ]
  },
  {
   "cell_type": "code",
   "execution_count": 23,
   "metadata": {},
   "outputs": [
    {
     "data": {
      "text/plain": [
       "array([ 2,  4,  6,  8, 10])"
      ]
     },
     "execution_count": 23,
     "metadata": {},
     "output_type": "execute_result"
    }
   ],
   "source": [
    "b = np.linspace(2,10,5,dtype=int)\n",
    "b"
   ]
  },
  {
   "cell_type": "code",
   "execution_count": 29,
   "metadata": {},
   "outputs": [
    {
     "data": {
      "text/plain": [
       "(array([ 2.,  4.,  6.,  8., 10.]), 2.0)"
      ]
     },
     "execution_count": 29,
     "metadata": {},
     "output_type": "execute_result"
    }
   ],
   "source": [
    "b = np.linspace(2,10,5,dtype= float, retstep = True)\n",
    "b"
   ]
  },
  {
   "cell_type": "code",
   "execution_count": 30,
   "metadata": {},
   "outputs": [
    {
     "data": {
      "text/plain": [
       "array([2. , 3.6, 5.2, 6.8, 8.4])"
      ]
     },
     "execution_count": 30,
     "metadata": {},
     "output_type": "execute_result"
    }
   ],
   "source": [
    "b = np.linspace(2,10,5,dtype= float, endpoint=False)\n",
    "b"
   ]
  },
  {
   "cell_type": "code",
   "execution_count": 31,
   "metadata": {},
   "outputs": [
    {
     "data": {
      "text/plain": [
       "array([[1., 0., 0.],\n",
       "       [0., 1., 0.],\n",
       "       [0., 0., 1.]])"
      ]
     },
     "execution_count": 31,
     "metadata": {},
     "output_type": "execute_result"
    }
   ],
   "source": [
    "# identity\n",
    "\n",
    "b = np.identity(3)\n",
    "b"
   ]
  },
  {
   "cell_type": "code",
   "execution_count": 32,
   "metadata": {},
   "outputs": [
    {
     "data": {
      "text/plain": [
       "array([[1., 0., 0.],\n",
       "       [0., 1., 0.],\n",
       "       [0., 0., 1.]])"
      ]
     },
     "execution_count": 32,
     "metadata": {},
     "output_type": "execute_result"
    }
   ],
   "source": [
    "#eye\n",
    "\n",
    "b = np.eye(3)\n",
    "b"
   ]
  },
  {
   "cell_type": "code",
   "execution_count": 33,
   "metadata": {},
   "outputs": [
    {
     "data": {
      "text/plain": [
       "array([[1., 0., 0.],\n",
       "       [0., 1., 0.]])"
      ]
     },
     "execution_count": 33,
     "metadata": {},
     "output_type": "execute_result"
    }
   ],
   "source": [
    "b = np.eye(2,3)\n",
    "b"
   ]
  },
  {
   "cell_type": "code",
   "execution_count": 34,
   "metadata": {},
   "outputs": [
    {
     "data": {
      "text/plain": [
       "array([0.16875733, 0.25387509, 0.69581273])"
      ]
     },
     "execution_count": 34,
     "metadata": {},
     "output_type": "execute_result"
    }
   ],
   "source": [
    "#random.rand\n",
    "\n",
    "b = np.random.rand(3)\n",
    "b"
   ]
  },
  {
   "cell_type": "code",
   "execution_count": 43,
   "metadata": {},
   "outputs": [
    {
     "data": {
      "text/plain": [
       "array([9.34431939, 4.30534358, 1.12897698, 4.04189834, 9.82427766,\n",
       "       1.52823209, 4.54086417, 1.02360445, 6.01009958, 8.13310001])"
      ]
     },
     "execution_count": 43,
     "metadata": {},
     "output_type": "execute_result"
    }
   ],
   "source": [
    "b = np.random.rand(10)*10\n",
    "b"
   ]
  },
  {
   "cell_type": "code",
   "execution_count": 35,
   "metadata": {},
   "outputs": [
    {
     "data": {
      "text/plain": [
       "array([[0.78235533, 0.96054197, 0.6438785 ],\n",
       "       [0.37066721, 0.40034763, 0.47303797]])"
      ]
     },
     "execution_count": 35,
     "metadata": {},
     "output_type": "execute_result"
    }
   ],
   "source": [
    "b = np.random.rand(2,3)\n",
    "b"
   ]
  },
  {
   "cell_type": "code",
   "execution_count": 47,
   "metadata": {},
   "outputs": [
    {
     "data": {
      "text/plain": [
       "array([1, 1, 0, 0, 0, 1, 0, 0, 1, 0])"
      ]
     },
     "execution_count": 47,
     "metadata": {},
     "output_type": "execute_result"
    }
   ],
   "source": [
    "b = np.random.randint(2, size=10)\n",
    "b"
   ]
  },
  {
   "cell_type": "code",
   "execution_count": 48,
   "metadata": {},
   "outputs": [
    {
     "data": {
      "text/plain": [
       "array([0, 0, 0, 0, 0, 0, 0, 0, 0, 0])"
      ]
     },
     "execution_count": 48,
     "metadata": {},
     "output_type": "execute_result"
    }
   ],
   "source": [
    "b = np.random.randint(1, size=10)\n",
    "b"
   ]
  },
  {
   "cell_type": "code",
   "execution_count": 49,
   "metadata": {},
   "outputs": [
    {
     "data": {
      "text/plain": [
       "array([[0, 3, 1],\n",
       "       [4, 2, 1]])"
      ]
     },
     "execution_count": 49,
     "metadata": {},
     "output_type": "execute_result"
    }
   ],
   "source": [
    "b = np.random.randint(5, size=(2,3))\n",
    "b"
   ]
  },
  {
   "cell_type": "code",
   "execution_count": 3,
   "metadata": {},
   "outputs": [
    {
     "data": {
      "text/plain": [
       "(4,)"
      ]
     },
     "execution_count": 3,
     "metadata": {},
     "output_type": "execute_result"
    }
   ],
   "source": [
    "a = np.array([0, 1, 2, 3])\n",
    "a.shape"
   ]
  },
  {
   "cell_type": "code",
   "execution_count": 5,
   "metadata": {},
   "outputs": [
    {
     "data": {
      "text/plain": [
       "0.9244033947432231"
      ]
     },
     "execution_count": 5,
     "metadata": {},
     "output_type": "execute_result"
    }
   ],
   "source": [
    "a = np.random.rand()\n",
    "a"
   ]
  },
  {
   "cell_type": "code",
   "execution_count": 10,
   "metadata": {},
   "outputs": [
    {
     "ename": "ValueError",
     "evalue": "low >= high",
     "output_type": "error",
     "traceback": [
      "\u001b[1;31m---------------------------------------------------------------------------\u001b[0m",
      "\u001b[1;31mValueError\u001b[0m                                Traceback (most recent call last)",
      "\u001b[1;32m<ipython-input-10-5313fd3f89c0>\u001b[0m in \u001b[0;36m<module>\u001b[1;34m\u001b[0m\n\u001b[1;32m----> 1\u001b[1;33m \u001b[0ma\u001b[0m \u001b[1;33m=\u001b[0m\u001b[0mnp\u001b[0m\u001b[1;33m.\u001b[0m\u001b[0mrandom\u001b[0m\u001b[1;33m.\u001b[0m\u001b[0mrandint\u001b[0m\u001b[1;33m(\u001b[0m\u001b[1;36m10\u001b[0m\u001b[1;33m,\u001b[0m \u001b[1;36m4\u001b[0m\u001b[1;33m)\u001b[0m\u001b[1;33m\u001b[0m\u001b[1;33m\u001b[0m\u001b[0m\n\u001b[0m\u001b[0;32m      2\u001b[0m \u001b[0ma\u001b[0m\u001b[1;33m\u001b[0m\u001b[1;33m\u001b[0m\u001b[0m\n",
      "\u001b[1;32mmtrand.pyx\u001b[0m in \u001b[0;36mnumpy.random.mtrand.RandomState.randint\u001b[1;34m()\u001b[0m\n",
      "\u001b[1;32mbounded_integers.pyx\u001b[0m in \u001b[0;36mnumpy.random.bounded_integers._rand_int32\u001b[1;34m()\u001b[0m\n",
      "\u001b[1;31mValueError\u001b[0m: low >= high"
     ]
    }
   ],
   "source": [
    "a =np.random.randint(10, 4)\n",
    "a"
   ]
  },
  {
   "cell_type": "code",
   "execution_count": 56,
   "metadata": {},
   "outputs": [
    {
     "name": "stdout",
     "output_type": "stream",
     "text": [
      "9 10 11 12 13 14 15 16 17 18 19 20 21 22 23 24 25 26 27 28 29 30 31 32 33 34 35 36 37 38 39 40 41 42 43 44 45 46 47 48 49 "
     ]
    }
   ],
   "source": [
    "#NumPy Inclusive\n",
    "\n",
    "import numpy as np\n",
    "\n",
    "a = np.arange(9,50)\n",
    "a\n",
    "\n",
    "for x in range(len(a)):\n",
    "    print(a[x],end=\" \")"
   ]
  },
  {
   "cell_type": "code",
   "execution_count": 18,
   "metadata": {},
   "outputs": [
    {
     "name": "stdout",
     "output_type": "stream",
     "text": [
      "[[1 0 0 0 0 0]\n",
      " [0 1 0 0 0 0]\n",
      " [0 0 1 0 0 0]\n",
      " [0 0 0 1 0 0]\n",
      " [0 0 0 0 1 0]]\n"
     ]
    }
   ],
   "source": [
    "#Identity Matrix\n",
    "\n",
    "import numpy as np\n",
    "\n",
    "a = np.eye(5,6,dtype=int)\n",
    "print(a)"
   ]
  },
  {
   "cell_type": "code",
   "execution_count": 26,
   "metadata": {},
   "outputs": [
    {
     "name": "stdout",
     "output_type": "stream",
     "text": [
      "0.56\n",
      "1.11\n",
      "1.67\n",
      "2.22\n",
      "2.78\n",
      "3.33\n",
      "3.89\n",
      "4.44\n"
     ]
    }
   ],
   "source": [
    "#Cut the Rope\n",
    "\n",
    "\n",
    "import numpy as np\n",
    "\n",
    "a=np.linspace(0,5,10)[1:9]\n",
    "a=list(a)\n",
    "\n",
    "for i in a:\n",
    "    i=round(i,2)\n",
    "    print(i)"
   ]
  },
  {
   "cell_type": "markdown",
   "metadata": {},
   "source": [
    "# Slicing & Indexing"
   ]
  },
  {
   "cell_type": "code",
   "execution_count": 31,
   "metadata": {},
   "outputs": [
    {
     "name": "stdout",
     "output_type": "stream",
     "text": [
      "[1, 2, 3, 4, 5]\n",
      "[1 2 3 4 5]\n"
     ]
    }
   ],
   "source": [
    "#1d array\n",
    "import numpy as np\n",
    "\n",
    "li = [1,2,3,4,5]\n",
    "arr = np.array(li)\n",
    "print(li)\n",
    "print(arr)"
   ]
  },
  {
   "cell_type": "code",
   "execution_count": 33,
   "metadata": {},
   "outputs": [
    {
     "name": "stdout",
     "output_type": "stream",
     "text": [
      "2\n",
      "2\n",
      "[2, 3, 4]\n",
      "[2 3 4]\n"
     ]
    }
   ],
   "source": [
    "print(li[1])\n",
    "print(arr[1])\n",
    "\n",
    "print(li[1:4])\n",
    "print(arr[1:4])"
   ]
  },
  {
   "cell_type": "code",
   "execution_count": 21,
   "metadata": {},
   "outputs": [
    {
     "name": "stdout",
     "output_type": "stream",
     "text": [
      "<memory at 0x000002B4CDC5E348>\n",
      "(5,)\n",
      "int32\n",
      "(4,)\n"
     ]
    }
   ],
   "source": [
    "print(arr.data)\n",
    "print(arr.shape)\n",
    "print(arr.dtype)\n",
    "print(arr.strides)"
   ]
  },
  {
   "cell_type": "code",
   "execution_count": 36,
   "metadata": {},
   "outputs": [
    {
     "name": "stdout",
     "output_type": "stream",
     "text": [
      "[[1, 2, 3, 4, 5], [6, 7, 8, 9, 10], [11, 12, 13, 14, 15], [16, 17, 18, 19, 20]]\n",
      "[[ 1  2  3  4  5]\n",
      " [ 6  7  8  9 10]\n",
      " [11 12 13 14 15]\n",
      " [16 17 18 19 20]]\n"
     ]
    }
   ],
   "source": [
    "#2d array\n",
    "\n",
    "#1d array\n",
    "import numpy as np\n",
    "\n",
    "li_2d = [[1,2,3,4,5],[6,7,8,9,10],[11,12,13,14,15],[16,17,18,19,20]]\n",
    "arr_2d = np.array(li_2d)\n",
    "print(li_2d)\n",
    "print(arr_2d)"
   ]
  },
  {
   "cell_type": "code",
   "execution_count": 37,
   "metadata": {},
   "outputs": [
    {
     "name": "stdout",
     "output_type": "stream",
     "text": [
      "<memory at 0x000002B4CDC9B748>\n",
      "(4, 5)\n",
      "int32\n",
      "(20, 4)\n"
     ]
    }
   ],
   "source": [
    "print(arr_2d.data)\n",
    "print(arr_2d.shape)\n",
    "print(arr_2d.dtype)\n",
    "print(arr_2d.strides)"
   ]
  },
  {
   "cell_type": "code",
   "execution_count": 44,
   "metadata": {},
   "outputs": [
    {
     "name": "stdout",
     "output_type": "stream",
     "text": [
      "12\n",
      "12\n",
      "12\n"
     ]
    }
   ],
   "source": [
    "print(li_2d[2][1])\n",
    "print(arr_2d[2][1])\n",
    "print(arr_2d[2,1])"
   ]
  },
  {
   "cell_type": "code",
   "execution_count": 45,
   "metadata": {},
   "outputs": [
    {
     "name": "stdout",
     "output_type": "stream",
     "text": [
      "[[12 13 14]\n",
      " [17 18 19]]\n"
     ]
    }
   ],
   "source": [
    "print(arr_2d[2:4,1:4])"
   ]
  },
  {
   "cell_type": "code",
   "execution_count": 46,
   "metadata": {},
   "outputs": [
    {
     "data": {
      "text/plain": [
       "(4,)"
      ]
     },
     "execution_count": 46,
     "metadata": {},
     "output_type": "execute_result"
    }
   ],
   "source": [
    "a = np.array([0, 1, 2, 3])\n",
    "a.shape"
   ]
  },
  {
   "cell_type": "code",
   "execution_count": 81,
   "metadata": {},
   "outputs": [
    {
     "name": "stdout",
     "output_type": "stream",
     "text": [
      "11 12 13 9 14 19 11 12 13 14 15 16 17 18 19 20 7 8 12 13 "
     ]
    }
   ],
   "source": [
    "import numpy as np\n",
    "input_=np.arange(1,21,1)\n",
    "input_=input_.reshape(4,5)\n",
    "\n",
    "x = input_[2:3,0:3]\n",
    "for i in range(len(x)):\n",
    "    print(*x[i],end=\" \")\n",
    "\n",
    "y = input_[1:4,3:4]\n",
    "for i in range(len(y)):\n",
    "    print(*y[i],end=\" \")\n",
    "    \n",
    "z = input_[2:4]\n",
    "for i in range(len(z)):\n",
    "    print(*z[i],end=\" \")\n",
    "    \n",
    "w = input_[1:3,1:3]\n",
    "for i in range(len(w)):\n",
    "    print(*w[i],end=\" \")"
   ]
  },
  {
   "cell_type": "code",
   "execution_count": 75,
   "metadata": {},
   "outputs": [
    {
     "name": "stdout",
     "output_type": "stream",
     "text": [
      "11 12 13 "
     ]
    }
   ],
   "source": [
    "x = input_[2:3,0:3]\n",
    "for i in range(len(x)):\n",
    "    print(*x[i],end=\" \")"
   ]
  },
  {
   "cell_type": "code",
   "execution_count": 76,
   "metadata": {},
   "outputs": [
    {
     "name": "stdout",
     "output_type": "stream",
     "text": [
      "9 14 19 "
     ]
    }
   ],
   "source": [
    "y = input_[1:4,3:4]\n",
    "for i in range(len(y)):\n",
    "    print(*y[i],end=\" \")"
   ]
  },
  {
   "cell_type": "code",
   "execution_count": 79,
   "metadata": {},
   "outputs": [
    {
     "name": "stdout",
     "output_type": "stream",
     "text": [
      "11 12 13 14 15 16 17 18 19 20 "
     ]
    }
   ],
   "source": [
    "z = input_[2:4]\n",
    "for i in range(len(z)):\n",
    "    print(*z[i],end=\" \")"
   ]
  },
  {
   "cell_type": "code",
   "execution_count": 80,
   "metadata": {},
   "outputs": [
    {
     "name": "stdout",
     "output_type": "stream",
     "text": [
      "7 8 12 13 "
     ]
    }
   ],
   "source": [
    "z = input_[1:3,1:3]\n",
    "for i in range(len(z)):\n",
    "    print(*z[i],end=\" \")"
   ]
  },
  {
   "cell_type": "code",
   "execution_count": 82,
   "metadata": {},
   "outputs": [
    {
     "name": "stdout",
     "output_type": "stream",
     "text": [
      "11 12 13 \n",
      "9 14 19 \n",
      "11 12 13 14 15 16 17 18 19 20 \n",
      "7 8 12 13 "
     ]
    }
   ],
   "source": [
    "#Print Elements\n",
    "\n",
    "import numpy as np\n",
    "input_=np.arange(1,21,1)\n",
    "input_=input_.reshape(4,5)\n",
    "\n",
    "x = input_[2:3,0:3]\n",
    "for i in range(len(x)):\n",
    "    print(*x[i],end=\" \")\n",
    "\n",
    "print()\n",
    "    \n",
    "y = input_[1:4,3:4]\n",
    "for i in range(len(y)):\n",
    "    print(*y[i],end=\" \")\n",
    "    \n",
    "print()\n",
    "\n",
    "z = input_[2:4]\n",
    "for i in range(len(z)):\n",
    "    print(*z[i],end=\" \")\n",
    "    \n",
    "print()\n",
    "\n",
    "w = input_[1:3,1:3]\n",
    "for i in range(len(w)):\n",
    "    print(*w[i],end=\" \")"
   ]
  },
  {
   "cell_type": "markdown",
   "metadata": {},
   "source": [
    "# Mathematical Operations - 1D"
   ]
  },
  {
   "cell_type": "code",
   "execution_count": 84,
   "metadata": {},
   "outputs": [
    {
     "name": "stdout",
     "output_type": "stream",
     "text": [
      "[1, 2, 3, 4, 5]\n",
      "[ 2 14 12  2  6]\n",
      "[17  3 11  7  3]\n"
     ]
    }
   ],
   "source": [
    "import numpy as np\n",
    "\n",
    "li = [1,2,3,4,5]\n",
    "a = np.random.randint(1,20,5)\n",
    "b = np.random.randint(1,20,5)\n",
    "\n",
    "print(li)\n",
    "print(a)\n",
    "print(b)"
   ]
  },
  {
   "cell_type": "code",
   "execution_count": 86,
   "metadata": {},
   "outputs": [
    {
     "data": {
      "text/plain": [
       "[3, 4, 5, 6, 7]"
      ]
     },
     "execution_count": 86,
     "metadata": {},
     "output_type": "execute_result"
    }
   ],
   "source": [
    "li = [i+1 for i in li]\n",
    "li"
   ]
  },
  {
   "cell_type": "code",
   "execution_count": 88,
   "metadata": {},
   "outputs": [
    {
     "data": {
      "text/plain": [
       "array([ 4, 16, 14,  4,  8])"
      ]
     },
     "execution_count": 88,
     "metadata": {},
     "output_type": "execute_result"
    }
   ],
   "source": [
    "a = a+1\n",
    "a"
   ]
  },
  {
   "cell_type": "code",
   "execution_count": 90,
   "metadata": {},
   "outputs": [
    {
     "data": {
      "text/plain": [
       "array([21, 19, 25, 11, 11])"
      ]
     },
     "execution_count": 90,
     "metadata": {},
     "output_type": "execute_result"
    }
   ],
   "source": [
    "c = a+b\n",
    "c"
   ]
  },
  {
   "cell_type": "code",
   "execution_count": 92,
   "metadata": {},
   "outputs": [
    {
     "data": {
      "text/plain": [
       "array([-13,  13,   3,  -3,   5])"
      ]
     },
     "execution_count": 92,
     "metadata": {},
     "output_type": "execute_result"
    }
   ],
   "source": [
    "d = a-b\n",
    "d"
   ]
  },
  {
   "cell_type": "code",
   "execution_count": 93,
   "metadata": {},
   "outputs": [
    {
     "data": {
      "text/plain": [
       "array([0.23529412, 5.33333333, 1.27272727, 0.57142857, 2.66666667])"
      ]
     },
     "execution_count": 93,
     "metadata": {},
     "output_type": "execute_result"
    }
   ],
   "source": [
    "e = a / b\n",
    "e"
   ]
  },
  {
   "cell_type": "code",
   "execution_count": 94,
   "metadata": {},
   "outputs": [
    {
     "data": {
      "text/plain": [
       "array([ 68,  48, 154,  28,  24])"
      ]
     },
     "execution_count": 94,
     "metadata": {},
     "output_type": "execute_result"
    }
   ],
   "source": [
    "f = a *b\n",
    "f"
   ]
  },
  {
   "cell_type": "code",
   "execution_count": 95,
   "metadata": {},
   "outputs": [
    {
     "data": {
      "text/plain": [
       "array([0, 5, 1, 0, 2], dtype=int32)"
      ]
     },
     "execution_count": 95,
     "metadata": {},
     "output_type": "execute_result"
    }
   ],
   "source": [
    "g = a // b\n",
    "g"
   ]
  },
  {
   "cell_type": "code",
   "execution_count": 96,
   "metadata": {},
   "outputs": [
    {
     "data": {
      "text/plain": [
       "array([         0,       4096, -588990464,      16384,        512],\n",
       "      dtype=int32)"
      ]
     },
     "execution_count": 96,
     "metadata": {},
     "output_type": "execute_result"
    }
   ],
   "source": [
    "h = a**b\n",
    "h"
   ]
  },
  {
   "cell_type": "code",
   "execution_count": 103,
   "metadata": {},
   "outputs": [
    {
     "name": "stdout",
     "output_type": "stream",
     "text": [
      "[ 4 16 14  4  8]\n",
      "46\n",
      "9.2\n",
      "4\n",
      "0\n",
      "16\n",
      "1\n"
     ]
    }
   ],
   "source": [
    "print(a)\n",
    "print(a.sum())\n",
    "print(a.mean())\n",
    "print(a.min())\n",
    "print(a.argmin())\n",
    "print(a.max())\n",
    "print(a.argmax())"
   ]
  },
  {
   "cell_type": "code",
   "execution_count": 104,
   "metadata": {},
   "outputs": [
    {
     "data": {
      "text/plain": [
       "array([False,  True,  True, False,  True])"
      ]
     },
     "execution_count": 104,
     "metadata": {},
     "output_type": "execute_result"
    }
   ],
   "source": [
    "a > b"
   ]
  },
  {
   "cell_type": "code",
   "execution_count": 105,
   "metadata": {},
   "outputs": [
    {
     "data": {
      "text/plain": [
       "array([ True, False, False,  True, False])"
      ]
     },
     "execution_count": 105,
     "metadata": {},
     "output_type": "execute_result"
    }
   ],
   "source": [
    "a < b"
   ]
  },
  {
   "cell_type": "code",
   "execution_count": 106,
   "metadata": {},
   "outputs": [
    {
     "data": {
      "text/plain": [
       "array([False, False, False, False, False])"
      ]
     },
     "execution_count": 106,
     "metadata": {},
     "output_type": "execute_result"
    }
   ],
   "source": [
    "a == b"
   ]
  },
  {
   "cell_type": "code",
   "execution_count": 110,
   "metadata": {},
   "outputs": [
    {
     "name": "stdout",
     "output_type": "stream",
     "text": [
      "[ 4 16 14  4  8]\n",
      "[17  3 11  7  3]\n"
     ]
    }
   ],
   "source": [
    "print(a)\n",
    "print(b)"
   ]
  },
  {
   "cell_type": "code",
   "execution_count": 108,
   "metadata": {},
   "outputs": [
    {
     "name": "stdout",
     "output_type": "stream",
     "text": [
      "[ True  True  True  True  True]\n"
     ]
    }
   ],
   "source": [
    "print(np.logical_or(a,b))"
   ]
  },
  {
   "cell_type": "code",
   "execution_count": 109,
   "metadata": {},
   "outputs": [
    {
     "name": "stdout",
     "output_type": "stream",
     "text": [
      "[ True  True  True  True  True]\n"
     ]
    }
   ],
   "source": [
    "print(np.logical_and(a,b))"
   ]
  },
  {
   "cell_type": "code",
   "execution_count": 111,
   "metadata": {},
   "outputs": [
    {
     "name": "stdout",
     "output_type": "stream",
     "text": [
      "[False False False False False]\n"
     ]
    }
   ],
   "source": [
    "print(np.logical_not(a))"
   ]
  },
  {
   "cell_type": "code",
   "execution_count": 112,
   "metadata": {},
   "outputs": [
    {
     "name": "stdout",
     "output_type": "stream",
     "text": [
      "[False False  True False False]\n"
     ]
    }
   ],
   "source": [
    "a[2] = 0\n",
    "print(np.logical_not(a))"
   ]
  },
  {
   "cell_type": "markdown",
   "metadata": {},
   "source": [
    "# Boolean Indexing - 1D"
   ]
  },
  {
   "cell_type": "code",
   "execution_count": 114,
   "metadata": {},
   "outputs": [
    {
     "name": "stdout",
     "output_type": "stream",
     "text": [
      "['t' 'b' 'r' 'd' 'e' 'f' 'z' 'a']\n",
      "[ 8  8 15  5  3 14  9  3]\n"
     ]
    }
   ],
   "source": [
    "import numpy as np\n",
    "\n",
    "a = np.array([\"t\",\"b\",\"r\",\"d\",\"e\",\"f\",\"z\",\"a\"])\n",
    "b = np.random.randint(1,20,8)\n",
    "\n",
    "print(a)\n",
    "print(b)"
   ]
  },
  {
   "cell_type": "code",
   "execution_count": 116,
   "metadata": {},
   "outputs": [
    {
     "name": "stdout",
     "output_type": "stream",
     "text": [
      "[False False  True False False  True False False]\n"
     ]
    }
   ],
   "source": [
    "print(b>10)"
   ]
  },
  {
   "cell_type": "code",
   "execution_count": 117,
   "metadata": {},
   "outputs": [
    {
     "name": "stdout",
     "output_type": "stream",
     "text": [
      "[False False  True False False  True False False]\n",
      "[15 14]\n"
     ]
    }
   ],
   "source": [
    "bool_array = b > 10\n",
    "print(bool_array)\n",
    "new_array = b[bool_array]\n",
    "print(new_array)"
   ]
  },
  {
   "cell_type": "code",
   "execution_count": 118,
   "metadata": {},
   "outputs": [
    {
     "data": {
      "text/plain": [
       "array([15, 14])"
      ]
     },
     "execution_count": 118,
     "metadata": {},
     "output_type": "execute_result"
    }
   ],
   "source": [
    "new = b[b>10]\n",
    "new"
   ]
  },
  {
   "cell_type": "code",
   "execution_count": 119,
   "metadata": {},
   "outputs": [
    {
     "data": {
      "text/plain": [
       "array([ 8,  8, 15, 14,  9])"
      ]
     },
     "execution_count": 119,
     "metadata": {},
     "output_type": "execute_result"
    }
   ],
   "source": [
    "new_array =  b[(b >5) & (b<20)] \n",
    "new_array"
   ]
  },
  {
   "cell_type": "code",
   "execution_count": 122,
   "metadata": {},
   "outputs": [
    {
     "name": "stdout",
     "output_type": "stream",
     "text": [
      "[ 8  8 15  5  3 14  9  3]\n"
     ]
    },
    {
     "data": {
      "text/plain": [
       "array([ 8,  8, 15,  5,  3, 14,  9,  3])"
      ]
     },
     "execution_count": 122,
     "metadata": {},
     "output_type": "execute_result"
    }
   ],
   "source": [
    "print(b)\n",
    "c = b\n",
    "c"
   ]
  },
  {
   "cell_type": "code",
   "execution_count": 127,
   "metadata": {},
   "outputs": [
    {
     "name": "stdout",
     "output_type": "stream",
     "text": [
      "[19 19 19  5  3 14  9  3]\n"
     ]
    }
   ],
   "source": [
    "c[:3] = 19\n",
    "print(c)"
   ]
  },
  {
   "cell_type": "code",
   "execution_count": 133,
   "metadata": {},
   "outputs": [
    {
     "data": {
      "text/plain": [
       "array([40, 40, 40,  5,  3, 14,  9,  3])"
      ]
     },
     "execution_count": 133,
     "metadata": {},
     "output_type": "execute_result"
    }
   ],
   "source": [
    "c[c > 15] = 40\n",
    "c"
   ]
  },
  {
   "cell_type": "code",
   "execution_count": 135,
   "metadata": {},
   "outputs": [
    {
     "data": {
      "text/plain": [
       "(array([0, 1, 2], dtype=int64),)"
      ]
     },
     "execution_count": 135,
     "metadata": {},
     "output_type": "execute_result"
    }
   ],
   "source": [
    "ind = np.where(c == 40)\n",
    "ind"
   ]
  },
  {
   "cell_type": "code",
   "execution_count": 63,
   "metadata": {},
   "outputs": [
    {
     "name": "stdout",
     "output_type": "stream",
     "text": [
      "[ 1  2 -3 -4 -5 -6 -7 -8  9 10]\n"
     ]
    },
    {
     "ename": "NameError",
     "evalue": "name 'b' is not defined",
     "output_type": "error",
     "traceback": [
      "\u001b[1;31m---------------------------------------------------------------------------\u001b[0m",
      "\u001b[1;31mNameError\u001b[0m                                 Traceback (most recent call last)",
      "\u001b[1;32m<ipython-input-63-981357e7b987>\u001b[0m in \u001b[0;36m<module>\u001b[1;34m\u001b[0m\n\u001b[0;32m      1\u001b[0m \u001b[0mprint\u001b[0m\u001b[1;33m(\u001b[0m\u001b[0ma\u001b[0m\u001b[1;33m)\u001b[0m\u001b[1;33m\u001b[0m\u001b[1;33m\u001b[0m\u001b[0m\n\u001b[1;32m----> 2\u001b[1;33m \u001b[0mprint\u001b[0m\u001b[1;33m(\u001b[0m\u001b[0mb\u001b[0m\u001b[1;33m)\u001b[0m\u001b[1;33m\u001b[0m\u001b[1;33m\u001b[0m\u001b[0m\n\u001b[0m",
      "\u001b[1;31mNameError\u001b[0m: name 'b' is not defined"
     ]
    }
   ],
   "source": [
    "print(a)\n",
    "print(b)"
   ]
  },
  {
   "cell_type": "code",
   "execution_count": 42,
   "metadata": {},
   "outputs": [
    {
     "ename": "NameError",
     "evalue": "name 'b' is not defined",
     "output_type": "error",
     "traceback": [
      "\u001b[1;31m---------------------------------------------------------------------------\u001b[0m",
      "\u001b[1;31mNameError\u001b[0m                                 Traceback (most recent call last)",
      "\u001b[1;32m<ipython-input-42-d0fd3b7d4ee7>\u001b[0m in \u001b[0;36m<module>\u001b[1;34m\u001b[0m\n\u001b[1;32m----> 1\u001b[1;33m \u001b[0mind\u001b[0m \u001b[1;33m=\u001b[0m \u001b[0mnp\u001b[0m\u001b[1;33m.\u001b[0m\u001b[0mwhere\u001b[0m\u001b[1;33m(\u001b[0m\u001b[0mb\u001b[0m \u001b[1;33m==\u001b[0m \u001b[1;36m40\u001b[0m\u001b[1;33m)\u001b[0m\u001b[1;33m\u001b[0m\u001b[1;33m\u001b[0m\u001b[0m\n\u001b[0m\u001b[0;32m      2\u001b[0m \u001b[0mprint\u001b[0m\u001b[1;33m(\u001b[0m\u001b[0mind\u001b[0m\u001b[1;33m)\u001b[0m\u001b[1;33m\u001b[0m\u001b[1;33m\u001b[0m\u001b[0m\n\u001b[0;32m      3\u001b[0m \u001b[0mprint\u001b[0m\u001b[1;33m(\u001b[0m\u001b[0ma\u001b[0m\u001b[1;33m[\u001b[0m\u001b[0mind\u001b[0m\u001b[1;33m]\u001b[0m\u001b[1;33m)\u001b[0m\u001b[1;33m\u001b[0m\u001b[1;33m\u001b[0m\u001b[0m\n",
      "\u001b[1;31mNameError\u001b[0m: name 'b' is not defined"
     ]
    }
   ],
   "source": [
    "ind = np.where(b == 40)\n",
    "print(ind)\n",
    "print(a[ind])"
   ]
  },
  {
   "cell_type": "code",
   "execution_count": 9,
   "metadata": {},
   "outputs": [
    {
     "name": "stdout",
     "output_type": "stream",
     "text": [
      "0 1 4 "
     ]
    }
   ],
   "source": [
    "#Non-Zero elements\n",
    "\n",
    "import numpy as np\n",
    "\n",
    "a = np.array([1,2,0,0,4,0])\n",
    "\n",
    "ind1 = np.where(a != 0)\n",
    "\n",
    "for i in ind1:\n",
    "    print(*i,end= \" \")"
   ]
  },
  {
   "cell_type": "code",
   "execution_count": 15,
   "metadata": {},
   "outputs": [
    {
     "name": "stdout",
     "output_type": "stream",
     "text": [
      "1 4 7 "
     ]
    }
   ],
   "source": [
    "#Multiples of 3\n",
    "\n",
    "import numpy as np\n",
    "\n",
    "a = np.array([1,  3,  5,  7,  9, 11, 13, 15, 17, 19])\n",
    "\n",
    "ind1 = np.where(a % 2 == 0)\n",
    "\n",
    "for i in ind1:\n",
    "    print(*i,end= \" \")\n",
    "\n"
   ]
  },
  {
   "cell_type": "code",
   "execution_count": 22,
   "metadata": {},
   "outputs": [
    {
     "name": "stdout",
     "output_type": "stream",
     "text": [
      "-1 2 -1 4 -1 6 -1 8 -1 10\n"
     ]
    }
   ],
   "source": [
    "#Odd elements\n",
    "\n",
    "import numpy as np\n",
    "\n",
    "a = np.array([1, 2, 3, 4, 5, 6, 7, 8, 9, 10])\n",
    "\n",
    "ind1 = np.where(a % 2 == 1)\n",
    "\n",
    "for i in ind1:\n",
    "    a[i] = -1\n",
    "    print(*a)"
   ]
  },
  {
   "cell_type": "code",
   "execution_count": 33,
   "metadata": {},
   "outputs": [
    {
     "name": "stdout",
     "output_type": "stream",
     "text": [
      "11\n",
      "2\n",
      "13\n",
      "4\n",
      "15\n",
      "6\n",
      "0\n",
      "8\n",
      "19\n"
     ]
    }
   ],
   "source": [
    "#Replace Max\n",
    "\n",
    "import numpy as np\n",
    "\n",
    "a = np.array([11, 2, 13, 4, 15, 6, 27, 8, 19])\n",
    "\n",
    "a1 = a.argmax()\n",
    "\n",
    "a[a1]= 0\n",
    "\n",
    "for i in a:\n",
    "    print(i)"
   ]
  },
  {
   "cell_type": "code",
   "execution_count": 39,
   "metadata": {},
   "outputs": [
    {
     "name": "stdout",
     "output_type": "stream",
     "text": [
      "1\n",
      "2\n",
      "-3\n",
      "-4\n",
      "-5\n",
      "-6\n",
      "-7\n",
      "-8\n",
      "9\n",
      "10\n"
     ]
    }
   ],
   "source": [
    "#Negate Elements\n",
    "\n",
    "import numpy as np\n",
    "\n",
    "a = np.array([1, 2, 3, 4, 5, 6, 7, 8, 9, 10])\n",
    "\n",
    "a[2:8] = np.multiply(a[2:8],-1)\n",
    "\n",
    "for i in a:\n",
    "    print(i)\n"
   ]
  },
  {
   "cell_type": "code",
   "execution_count": 69,
   "metadata": {},
   "outputs": [
    {
     "name": "stdout",
     "output_type": "stream",
     "text": [
      "15 156\n",
      "19 180\n",
      "20 162\n",
      "21 157\n",
      "22 158\n",
      "23 179\n",
      "16 182\n",
      "18 183\n",
      "20 159\n",
      "15 160\n",
      "17 172\n"
     ]
    }
   ],
   "source": [
    "#Height\n",
    "\n",
    "## Print the required output in given format\n",
    "age=np.array([15,17,19,20,14,21,16,19,13,20,22,23,21,16,18,19,20,15,17,18])\n",
    "height=np.array([156,144,180,162,152,157,154,155,151,150,158,179,126,182,183,154,159,160,172,149])\n",
    "\n",
    "#ind = np.where(height > 155)\n",
    "\n",
    "for i in range(20):\n",
    "    if height[i]>155:\n",
    "        print(age[i],height[i])"
   ]
  },
  {
   "cell_type": "markdown",
   "metadata": {},
   "source": [
    "# Boolean Indexing - 2D"
   ]
  },
  {
   "cell_type": "code",
   "execution_count": 71,
   "metadata": {},
   "outputs": [
    {
     "name": "stdout",
     "output_type": "stream",
     "text": [
      "[[11 13  8 16  4 27]\n",
      " [18 18 16 15 19  7]\n",
      " [18 14 16 13  9 13]\n",
      " [13 26 16  9  5 25]\n",
      " [26  2  8 21 20 11]]\n"
     ]
    }
   ],
   "source": [
    "import numpy as np\n",
    "\n",
    "a = np.random.randint(1,30,(5,6))\n",
    "print(a)"
   ]
  },
  {
   "cell_type": "code",
   "execution_count": 74,
   "metadata": {},
   "outputs": [
    {
     "name": "stdout",
     "output_type": "stream",
     "text": [
      "[[False False False False False  True]\n",
      " [False False False False False False]\n",
      " [False False False False False False]\n",
      " [False  True False False False  True]\n",
      " [ True False False  True False False]]\n"
     ]
    }
   ],
   "source": [
    "bool_arr = a > 20\n",
    "print(bool_arr)"
   ]
  },
  {
   "cell_type": "code",
   "execution_count": 75,
   "metadata": {},
   "outputs": [
    {
     "name": "stdout",
     "output_type": "stream",
     "text": [
      "[27 26 25 26 21]\n"
     ]
    }
   ],
   "source": [
    "ans = a[bool_arr]\n",
    "print(ans)"
   ]
  },
  {
   "cell_type": "code",
   "execution_count": 81,
   "metadata": {},
   "outputs": [
    {
     "name": "stdout",
     "output_type": "stream",
     "text": [
      "[[ 11  13   8  16   4  99]\n",
      " [ 18  18  16  15  19  99]\n",
      " [ 18  14  16  13   9  99]\n",
      " [ 13 100  16   9   5  99]\n",
      " [100   2   8 100  20  99]]\n"
     ]
    }
   ],
   "source": [
    "b = a\n",
    "print(b)"
   ]
  },
  {
   "cell_type": "code",
   "execution_count": 82,
   "metadata": {},
   "outputs": [
    {
     "ename": "IndexError",
     "evalue": "index 99 is out of bounds for axis 0 with size 5",
     "output_type": "error",
     "traceback": [
      "\u001b[1;31m---------------------------------------------------------------------------\u001b[0m",
      "\u001b[1;31mIndexError\u001b[0m                                Traceback (most recent call last)",
      "\u001b[1;32m<ipython-input-82-9c0695804380>\u001b[0m in \u001b[0;36m<module>\u001b[1;34m\u001b[0m\n\u001b[1;32m----> 1\u001b[1;33m \u001b[0mb\u001b[0m\u001b[1;33m[\u001b[0m\u001b[0mbool_arr\u001b[0m\u001b[1;33m]\u001b[0m \u001b[1;33m=\u001b[0m \u001b[1;36m100\u001b[0m\u001b[1;33m\u001b[0m\u001b[1;33m\u001b[0m\u001b[0m\n\u001b[0m\u001b[0;32m      2\u001b[0m \u001b[0mprint\u001b[0m\u001b[1;33m(\u001b[0m\u001b[0mb\u001b[0m\u001b[1;33m)\u001b[0m\u001b[1;33m\u001b[0m\u001b[1;33m\u001b[0m\u001b[0m\n",
      "\u001b[1;31mIndexError\u001b[0m: index 99 is out of bounds for axis 0 with size 5"
     ]
    }
   ],
   "source": [
    "b[bool_arr] = 100\n",
    "print(b)"
   ]
  },
  {
   "cell_type": "code",
   "execution_count": 79,
   "metadata": {},
   "outputs": [
    {
     "name": "stdout",
     "output_type": "stream",
     "text": [
      "99\n"
     ]
    }
   ],
   "source": [
    "bool_arr = b[:,5] = 99\n",
    "print(bool_arr)"
   ]
  },
  {
   "cell_type": "code",
   "execution_count": 90,
   "metadata": {},
   "outputs": [
    {
     "name": "stdout",
     "output_type": "stream",
     "text": [
      "[[ 6  5  4  3  2]\n",
      " [11 10  9  8  7]\n",
      " [16 15 14 13 12]\n",
      " [21 20 19 18 17]]\n"
     ]
    }
   ],
   "source": [
    "import numpy as np\n",
    "\n",
    "arr2D = np.array ([[21,20, 19, 18, 17],[16, 15, 14, 13, 12],[11, 10,  9,  8,  7],[ 6,  5,  4,  3,  2]])\n",
    "\n",
    "# Sort 2D numpy array by 2nd Column\n",
    "sortedArr = arr2D[arr2D[:,1].argsort()]\n",
    " \n",
    "print(sortedArr)"
   ]
  },
  {
   "cell_type": "code",
   "execution_count": 7,
   "metadata": {},
   "outputs": [],
   "source": [
    "import numpy as np\n",
    "import csv\n",
    "file_obj=open(\"terrorismData.csv\",encoding=\"utf8\")\n",
    "file_data=csv.DictReader(file_obj,skipinitialspace=True)\n",
    "country=[]\n",
    "killed=[]\n",
    "wounded=[]\n",
    "city=[]\n",
    "final=[]\n",
    "\n",
    "#Making lists\n",
    "for row in file_data:\n",
    "    if row['Country']=='India':\n",
    "        country.append(row['Country'])\n",
    "        killed.append(row['Killed'])\n",
    "        wounded.append(row['Wounded'])\n",
    "        city.append(row['City'])\n",
    "        final.append([row['City'],row['Killed'],row['Wounded']])\n",
    "\n",
    "#Making numpy arrays out of lists\n",
    "np_month=np.array(country)\n",
    "np_killed=np.array(killed)\n",
    "np_wounded=np.array(wounded)\n",
    "np_city=np.array(city)\n",
    "np_final=np.array(final)\n",
    "\n",
    "#Fixing blank values in final arr\n",
    "for i in range(len(np_final)):\n",
    "    for j in range(len(np_final[0])):\n",
    "        if np_final[i][j]=='':\n",
    "            np_final[i][j]='0.0'\n",
    "\n",
    "#Counting casualities(killed+wounded) and storing in 1st column of final array\n",
    "for i in range(len(np_final)):\n",
    "    np_final[i,1]=float(np_final[i,1])+float(np_final[i,2])\n",
    "\n",
    "#Descending sort on casualities column\n",
    "np_final=np_final[np_final[:,1].argsort()[::-1]]\n"
   ]
  },
  {
   "cell_type": "code",
   "execution_count": null,
   "metadata": {},
   "outputs": [],
   "source": [
    "#Killed in USA\n",
    "import numpy as np\n",
    "import csv\n",
    "\n",
    "reader = csv.DictReader(open('terrorismData.csv'), skipinitialspace=True)\n",
    "l = list(reader)\n",
    "\n",
    "usl = []\n",
    "killed = []\n",
    "i = 0 \n",
    "for row in l:\n",
    "    if row['Country'] != '' and row['Country'] == 'United States':\n",
    "        if row['Killed'] == '':\n",
    "            print(0)\n",
    "        else:\n",
    "            print(int(float(row['Killed'])))\n",
    "            i+=int(float(row['Killed']))"
   ]
  },
  {
   "cell_type": "markdown",
   "metadata": {},
   "source": [
    "# Assignment"
   ]
  },
  {
   "cell_type": "code",
   "execution_count": 1,
   "metadata": {},
   "outputs": [
    {
     "name": "stdout",
     "output_type": "stream",
     "text": [
      "66330\n"
     ]
    }
   ],
   "source": [
    "import numpy as np\n",
    "import csv\n",
    "\n",
    "reader = csv.DictReader(open('terrorismData.csv',encoding=\"utf8\"),skipinitialspace=True)\n",
    "l = list(reader)\n",
    "\n",
    "cnt = 0\n",
    "for row in l:\n",
    "    if row['Day'] is not None and row['Day'] != '' and int(row['Day']) >= 10 and int(row['Day']) <=20:\n",
    "        cnt+=1\n",
    "print(cnt)"
   ]
  },
  {
   "cell_type": "code",
   "execution_count": 3,
   "metadata": {},
   "outputs": [
    {
     "name": "stdout",
     "output_type": "stream",
     "text": [
      "271\n"
     ]
    }
   ],
   "source": [
    "#Terrorism Date\n",
    "\n",
    "import numpy as np\n",
    "import csv\n",
    "\n",
    "day = []\n",
    "with open('terrorismData.csv',encoding='ISO-8859-1') as data:\n",
    "    reader = csv.DictReader(data)\n",
    "    for row in reader:\n",
    "        if row['Year'] is not None and row['Year'] != '' and int(row['Year']) == 2010:\n",
    "            if row['Month'] is not None and row['Month'] != '' and int(row['Month']) ==1:\n",
    "                if row['Day'] is not None and row['Day'] != '' and int(row['Day']) >=1 and int(row['Day']) <= 31:\n",
    "                    day.append(row)\n",
    "    print(np.count_nonzero(day))"
   ]
  },
  {
   "cell_type": "code",
   "execution_count": null,
   "metadata": {},
   "outputs": [],
   "source": [
    "#Terror City Casualty\n",
    "\n",
    "import numpy as np\n",
    "import csv\n",
    "with open('terrorismData.csv',encoding=\"utf8\") as file_obj:\n",
    "    file_data = csv.DictReader(file_obj,skipinitialspace=True)\n",
    "   \n",
    "    city = []\n",
    "    killed = []\n",
    "    wounded = []\n",
    "   \n",
    "    for row in file_data:\n",
    "        if row['Country'] == 'India' and row['City'] != 'Unknown':\n",
    "            city.append(row['City'])\n",
    "            killed.append(row['Killed'])\n",
    "            wounded.append(row['Wounded'])\n",
    "          \n",
    "    np_city   = np.array(city)\n",
    "    np_killed  = np.array(killed)\n",
    "    np_wounded = np.array(wounded)   \n",
    "    \n",
    "    np_killed[np_killed == ''] = '0.0'\n",
    "    np_wounded[np_wounded == ''] = '0.0'\n",
    "       \n",
    "    np_killed  = np.array(np_killed,dtype=float)\n",
    "    np_killed  = np.array(np_killed,dtype=int)\n",
    "    np_wounded = np.array(np_wounded,dtype=float)\n",
    "    np_wounded = np.array(np_wounded,dtype=int)\n",
    "    np_casualty = np_killed + np_wounded\n",
    "    \n",
    "    np_city_u   = np.unique(np_city)\n",
    "    cas_u    = []\n",
    "    for ind_city in np_city_u:\n",
    "        tot_cas = np.sum(np_casualty[(np_city == ind_city)])\n",
    "        cas_u.append(tot_cas)\n",
    "    np_cas_u    = np.array(cas_u)\n",
    "    ind = np_cas_u.argsort()\n",
    "    ind = ind[::-1]\n",
    "    ind = ind[:5]\n",
    "    for i in ind:\n",
    "        print(np_city_u[i],np_cas_u[i])"
   ]
  },
  {
   "cell_type": "code",
   "execution_count": 4,
   "metadata": {},
   "outputs": [
    {
     "name": "stdout",
     "output_type": "stream",
     "text": [
      "5628\n"
     ]
    }
   ],
   "source": [
    "#Terror Casualty Red\n",
    "\n",
    "import numpy as np\n",
    "import csv\n",
    "with open('terrorismData.csv',encoding=\"utf8\") as file_obj:\n",
    "    file_data = csv.DictReader(file_obj,skipinitialspace=True)\n",
    "   \n",
    "    state = []\n",
    "    killed = []\n",
    "    wounded = []\n",
    "   \n",
    "    for row in file_data:\n",
    "        if row['Country'] == 'India':\n",
    "            state.append(row['State'])\n",
    "            killed.append(row['Killed'])\n",
    "            wounded.append(row['Wounded'])\n",
    "          \n",
    "    np_state   = np.array(state)\n",
    "    np_killed  = np.array(killed)\n",
    "    np_wounded = np.array(wounded)   \n",
    "    \n",
    "    np_killed[np_killed == ''] = '0.0'\n",
    "    np_wounded[np_wounded == ''] = '0.0'\n",
    "       \n",
    "    np_killed  = np.array(np_killed,dtype=float)\n",
    "    np_killed  = np.array(np_killed,dtype=int)\n",
    "    np_wounded = np.array(np_wounded,dtype=float)\n",
    "    np_wounded = np.array(np_wounded,dtype=int)\n",
    "    np_casualty = np_killed + np_wounded\n",
    "    \n",
    "    bool_red = (np_state == 'Jharkhand') | (np_state == 'Odisha') | (np_state == 'Andhra Pradesh') | (np_state == 'Chhattisgarh')\n",
    "   \n",
    "    np_cas_filter  = np_casualty[(bool_red)]\n",
    "    cas_count = np.sum(np_cas_filter)\n",
    "    print(cas_count)"
   ]
  }
 ],
 "metadata": {
  "kernelspec": {
   "display_name": "Python 3",
   "language": "python",
   "name": "python3"
  },
  "language_info": {
   "codemirror_mode": {
    "name": "ipython",
    "version": 3
   },
   "file_extension": ".py",
   "mimetype": "text/x-python",
   "name": "python",
   "nbconvert_exporter": "python",
   "pygments_lexer": "ipython3",
   "version": "3.7.4"
  }
 },
 "nbformat": 4,
 "nbformat_minor": 2
}
